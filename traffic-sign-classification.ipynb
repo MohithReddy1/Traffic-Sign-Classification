{
 "cells": [
  {
   "cell_type": "markdown",
   "metadata": {},
   "source": [
    "# Traffic Sign Classification"
   ]
  },
  {
   "cell_type": "markdown",
   "metadata": {},
   "source": [
    "## Problem Statement\n",
    "\n",
    "Traffic Sign Classification. This project is useful for all autonomous vehicles. And able to identify traffic signs from the image."
   ]
  },
  {
   "cell_type": "markdown",
   "metadata": {},
   "source": [
    "## Dataset Description:\n",
    "\n",
    "The dataset contains more than 50,000 images of different traffic signs. The size of the dataset is around 600 MB. The dataset has a train folder which contains images inside each class and a test folder which we will use for testing our model."
   ]
  },
  {
   "cell_type": "markdown",
   "metadata": {},
   "source": [
    "### Dataset link: https://www.kaggle.com/datasets/meowmeowmeowmeowmeow/gtsrb-german-traffic-sign"
   ]
  },
  {
   "cell_type": "markdown",
   "metadata": {},
   "source": [
    "## Methodology to solve the problem\n",
    "\n",
    "1. Explore the dataset\n",
    "2. Splitting the data into Train and Test Set\n",
    "3. Build a CNN model\n",
    "4. Train and validate the model\n",
    "5. Test the model with test dataset\n",
    "6. Predection"
   ]
  },
  {
   "cell_type": "markdown",
   "metadata": {},
   "source": [
    "### Import Libraries"
   ]
  },
  {
   "cell_type": "code",
   "execution_count": 1,
   "metadata": {
    "execution": {
     "iopub.execute_input": "2022-04-22T08:19:28.732131Z",
     "iopub.status.busy": "2022-04-22T08:19:28.731883Z",
     "iopub.status.idle": "2022-04-22T08:19:28.737290Z",
     "shell.execute_reply": "2022-04-22T08:19:28.736558Z",
     "shell.execute_reply.started": "2022-04-22T08:19:28.732103Z"
    },
    "scrolled": true
   },
   "outputs": [
    {
     "name": "stdout",
     "output_type": "stream",
     "text": [
      "INFO:tensorflow:Enabling eager execution\n",
      "INFO:tensorflow:Enabling v2 tensorshape\n",
      "INFO:tensorflow:Enabling resource variables\n",
      "INFO:tensorflow:Enabling tensor equality\n",
      "INFO:tensorflow:Enabling control flow v2\n"
     ]
    }
   ],
   "source": [
    "import numpy as np \n",
    "import pandas as pd \n",
    "import matplotlib.pyplot as plt\n",
    "import cv2\n",
    "import tensorflow as tf\n",
    "from PIL import Image\n",
    "from tqdm import tqdm_notebook as tqdm\n",
    "import os\n",
    "from sklearn.model_selection import train_test_split\n",
    "from tensorflow.keras.utils import to_categorical\n",
    "from keras.models import Sequential, load_model\n",
    "from keras.layers import Conv2D, MaxPool2D, Dense, Flatten, Dropout\n",
    "import warnings\n",
    "warnings.filterwarnings(\"ignore\")"
   ]
  },
  {
   "cell_type": "markdown",
   "metadata": {},
   "source": [
    "## Import Data"
   ]
  },
  {
   "cell_type": "code",
   "execution_count": 2,
   "metadata": {
    "execution": {
     "iopub.execute_input": "2022-04-22T08:19:28.790849Z",
     "iopub.status.busy": "2022-04-22T08:19:28.790486Z",
     "iopub.status.idle": "2022-04-22T08:19:28.795478Z",
     "shell.execute_reply": "2022-04-22T08:19:28.794551Z",
     "shell.execute_reply.started": "2022-04-22T08:19:28.790818Z"
    }
   },
   "outputs": [],
   "source": [
    "data = []\n",
    "labels = []\n",
    "classes = 43\n",
    "cur_path = os.getcwd()"
   ]
  },
  {
   "cell_type": "code",
   "execution_count": 3,
   "metadata": {
    "execution": {
     "iopub.execute_input": "2022-04-22T08:19:28.866185Z",
     "iopub.status.busy": "2022-04-22T08:19:28.865900Z",
     "iopub.status.idle": "2022-04-22T08:19:28.889602Z",
     "shell.execute_reply": "2022-04-22T08:19:28.888702Z",
     "shell.execute_reply.started": "2022-04-22T08:19:28.866157Z"
    }
   },
   "outputs": [
    {
     "data": {
      "application/vnd.jupyter.widget-view+json": {
       "model_id": "ed3c73f8c5f04c74b0e4342ceed3f71c",
       "version_major": 2,
       "version_minor": 0
      },
      "text/plain": [
       "  0%|          | 0/43 [00:00<?, ?it/s]"
      ]
     },
     "metadata": {},
     "output_type": "display_data"
    }
   ],
   "source": [
    "for i in tqdm(range(classes)):\n",
    "    path = os.path.join(cur_path,'Train',str(i))\n",
    "    images = os.listdir(path)\n",
    "\n",
    "    for a in images:\n",
    "        try:\n",
    "            image = Image.open(path + '\\\\'+ a)\n",
    "            image = image.resize((30,30))\n",
    "            image = np.array(image)\n",
    "            data.append(image)\n",
    "            labels.append(i)\n",
    "        except:\n",
    "            print(\"Error loading image\")\n",
    "\n",
    "data = np.array(data)\n",
    "labels = np.array(labels)"
   ]
  },
  {
   "cell_type": "code",
   "execution_count": 4,
   "metadata": {
    "execution": {
     "iopub.execute_input": "2022-04-22T08:19:28.931124Z",
     "iopub.status.busy": "2022-04-22T08:19:28.930846Z",
     "iopub.status.idle": "2022-04-22T08:19:28.946782Z",
     "shell.execute_reply": "2022-04-22T08:19:28.945926Z",
     "shell.execute_reply.started": "2022-04-22T08:19:28.931095Z"
    }
   },
   "outputs": [
    {
     "name": "stdout",
     "output_type": "stream",
     "text": [
      "Shape of data is: (39209, 30, 30, 3)\n",
      "Shape of labels is: (39209,)\n"
     ]
    }
   ],
   "source": [
    "print(\"Shape of data is:\", data.shape)\n",
    "print(\"Shape of labels is:\", labels.shape)"
   ]
  },
  {
   "cell_type": "markdown",
   "metadata": {},
   "source": [
    "### Splitting the data into Train and Test Set"
   ]
  },
  {
   "cell_type": "code",
   "execution_count": 5,
   "metadata": {
    "execution": {
     "iopub.execute_input": "2022-04-22T08:19:28.988942Z",
     "iopub.status.busy": "2022-04-22T08:19:28.988411Z",
     "iopub.status.idle": "2022-04-22T08:19:29.010726Z",
     "shell.execute_reply": "2022-04-22T08:19:29.009780Z",
     "shell.execute_reply.started": "2022-04-22T08:19:28.988913Z"
    }
   },
   "outputs": [],
   "source": [
    "X_train, X_test, y_train, y_test = train_test_split(data, labels, test_size=0.2, random_state=42)\n",
    "\n",
    "y_train = to_categorical(y_train, 43)\n",
    "y_test = to_categorical(y_test, 43)"
   ]
  },
  {
   "cell_type": "code",
   "execution_count": 6,
   "metadata": {
    "execution": {
     "iopub.execute_input": "2022-04-22T08:19:29.107560Z",
     "iopub.status.busy": "2022-04-22T08:19:29.107262Z",
     "iopub.status.idle": "2022-04-22T08:19:29.127210Z",
     "shell.execute_reply": "2022-04-22T08:19:29.126333Z",
     "shell.execute_reply.started": "2022-04-22T08:19:29.107529Z"
    }
   },
   "outputs": [
    {
     "name": "stdout",
     "output_type": "stream",
     "text": [
      "Shape of train images is: (31367, 30, 30, 3)\n",
      "Shape of test images is: (7842, 30, 30, 3)\n",
      "Shape of labels is: (31367, 43)\n",
      "Shape of labels is: (7842, 43)\n"
     ]
    }
   ],
   "source": [
    "print(\"Shape of train images is:\", X_train.shape)\n",
    "print(\"Shape of test images is:\", X_test.shape)\n",
    "print(\"Shape of labels is:\", y_train.shape)\n",
    "print(\"Shape of labels is:\", y_test.shape)"
   ]
  },
  {
   "cell_type": "markdown",
   "metadata": {},
   "source": [
    "## Building Model CNN"
   ]
  },
  {
   "cell_type": "code",
   "execution_count": 7,
   "metadata": {
    "execution": {
     "iopub.execute_input": "2022-04-22T08:19:29.136520Z",
     "iopub.status.busy": "2022-04-22T08:19:29.136230Z",
     "iopub.status.idle": "2022-04-22T08:19:29.139991Z",
     "shell.execute_reply": "2022-04-22T08:19:29.139081Z",
     "shell.execute_reply.started": "2022-04-22T08:19:29.136476Z"
    }
   },
   "outputs": [],
   "source": [
    "epochs = 10\n",
    "batch_size = 32"
   ]
  },
  {
   "cell_type": "code",
   "execution_count": 8,
   "metadata": {
    "execution": {
     "iopub.execute_input": "2022-04-22T08:19:29.210878Z",
     "iopub.status.busy": "2022-04-22T08:19:29.210425Z",
     "iopub.status.idle": "2022-04-22T08:19:29.237309Z",
     "shell.execute_reply": "2022-04-22T08:19:29.236377Z",
     "shell.execute_reply.started": "2022-04-22T08:19:29.210849Z"
    }
   },
   "outputs": [],
   "source": [
    "cnn_model = Sequential()\n",
    "cnn_model.add(Conv2D(filters=32, kernel_size=(5,5), activation='relu', input_shape=X_train.shape[1:]))\n",
    "cnn_model.add(Conv2D(filters=32, kernel_size=(5,5), activation='relu'))\n",
    "cnn_model.add(MaxPool2D(pool_size=(2, 2)))\n",
    "cnn_model.add(Dropout(rate=0.25))\n",
    "cnn_model.add(Conv2D(filters=64, kernel_size=(3, 3), activation='relu'))\n",
    "cnn_model.add(Conv2D(filters=64, kernel_size=(3, 3), activation='relu'))\n",
    "cnn_model.add(MaxPool2D(pool_size=(2, 2)))\n",
    "cnn_model.add(Dropout(rate=0.25))\n",
    "cnn_model.add(Flatten())\n",
    "cnn_model.add(Dense(256, activation='relu'))\n",
    "cnn_model.add(Dropout(rate=0.5))\n",
    "cnn_model.add(Dense(43, activation='softmax'))"
   ]
  },
  {
   "cell_type": "markdown",
   "metadata": {},
   "source": [
    "### Summary of the CNN Model"
   ]
  },
  {
   "cell_type": "code",
   "execution_count": 9,
   "metadata": {
    "execution": {
     "iopub.execute_input": "2022-04-22T08:19:29.258219Z",
     "iopub.status.busy": "2022-04-22T08:19:29.257934Z",
     "iopub.status.idle": "2022-04-22T08:19:29.277610Z",
     "shell.execute_reply": "2022-04-22T08:19:29.276478Z",
     "shell.execute_reply.started": "2022-04-22T08:19:29.258193Z"
    }
   },
   "outputs": [
    {
     "name": "stdout",
     "output_type": "stream",
     "text": [
      "Model: \"sequential\"\n",
      "_________________________________________________________________\n",
      "Layer (type)                 Output Shape              Param #   \n",
      "=================================================================\n",
      "conv2d (Conv2D)              (None, 26, 26, 32)        2432      \n",
      "_________________________________________________________________\n",
      "conv2d_1 (Conv2D)            (None, 22, 22, 32)        25632     \n",
      "_________________________________________________________________\n",
      "max_pooling2d (MaxPooling2D) (None, 11, 11, 32)        0         \n",
      "_________________________________________________________________\n",
      "dropout (Dropout)            (None, 11, 11, 32)        0         \n",
      "_________________________________________________________________\n",
      "conv2d_2 (Conv2D)            (None, 9, 9, 64)          18496     \n",
      "_________________________________________________________________\n",
      "conv2d_3 (Conv2D)            (None, 7, 7, 64)          36928     \n",
      "_________________________________________________________________\n",
      "max_pooling2d_1 (MaxPooling2 (None, 3, 3, 64)          0         \n",
      "_________________________________________________________________\n",
      "dropout_1 (Dropout)          (None, 3, 3, 64)          0         \n",
      "_________________________________________________________________\n",
      "flatten (Flatten)            (None, 576)               0         \n",
      "_________________________________________________________________\n",
      "dense (Dense)                (None, 256)               147712    \n",
      "_________________________________________________________________\n",
      "dropout_2 (Dropout)          (None, 256)               0         \n",
      "_________________________________________________________________\n",
      "dense_1 (Dense)              (None, 43)                11051     \n",
      "=================================================================\n",
      "Total params: 242,251\n",
      "Trainable params: 242,251\n",
      "Non-trainable params: 0\n",
      "_________________________________________________________________\n"
     ]
    }
   ],
   "source": [
    "cnn_model.summary()"
   ]
  },
  {
   "cell_type": "code",
   "execution_count": 10,
   "metadata": {
    "execution": {
     "iopub.status.busy": "2022-04-22T08:19:29.278463Z",
     "iopub.status.idle": "2022-04-22T08:19:29.279250Z",
     "shell.execute_reply": "2022-04-22T08:19:29.279024Z",
     "shell.execute_reply.started": "2022-04-22T08:19:29.278997Z"
    }
   },
   "outputs": [],
   "source": [
    "cnn_model.compile(loss='categorical_crossentropy', optimizer='adam', metrics=['accuracy'])"
   ]
  },
  {
   "cell_type": "markdown",
   "metadata": {},
   "source": [
    "### Train the CNN"
   ]
  },
  {
   "cell_type": "code",
   "execution_count": 11,
   "metadata": {
    "execution": {
     "iopub.execute_input": "2022-04-22T08:19:29.284198Z",
     "iopub.status.busy": "2022-04-22T08:19:29.284011Z",
     "iopub.status.idle": "2022-04-22T08:19:29.302384Z",
     "shell.execute_reply": "2022-04-22T08:19:29.301367Z",
     "shell.execute_reply.started": "2022-04-22T08:19:29.284175Z"
    }
   },
   "outputs": [
    {
     "name": "stdout",
     "output_type": "stream",
     "text": [
      "Epoch 1/10\n",
      "WARNING:tensorflow:AutoGraph could not transform <bound method Dense.call of <keras.layers.core.Dense object at 0x000001AD911C8310>> and will run it as-is.\n",
      "Please report this to the TensorFlow team. When filing the bug, set the verbosity to 10 (on Linux, `export AUTOGRAPH_VERBOSITY=10`) and attach the full output.\n",
      "Cause: invalid syntax (tmpb6em6_m8.py, line 48)\n",
      "To silence this warning, decorate the function with @tf.autograph.experimental.do_not_convert\n",
      "WARNING: AutoGraph could not transform <bound method Dense.call of <keras.layers.core.Dense object at 0x000001AD911C8310>> and will run it as-is.\n",
      "Please report this to the TensorFlow team. When filing the bug, set the verbosity to 10 (on Linux, `export AUTOGRAPH_VERBOSITY=10`) and attach the full output.\n",
      "Cause: invalid syntax (tmpb6em6_m8.py, line 48)\n",
      "To silence this warning, decorate the function with @tf.autograph.experimental.do_not_convert\n",
      "981/981 [==============================] - 71s 54ms/step - loss: 2.8107 - accuracy: 0.3929 - val_loss: 0.2284 - val_accuracy: 0.9380\n",
      "Epoch 2/10\n",
      "981/981 [==============================] - 54s 55ms/step - loss: 0.4719 - accuracy: 0.8764 - val_loss: 0.0966 - val_accuracy: 0.9770\n",
      "Epoch 3/10\n",
      "981/981 [==============================] - 52s 53ms/step - loss: 0.2966 - accuracy: 0.9213 - val_loss: 0.1034 - val_accuracy: 0.9740\n",
      "Epoch 4/10\n",
      "981/981 [==============================] - 52s 53ms/step - loss: 0.2427 - accuracy: 0.9398 - val_loss: 0.0647 - val_accuracy: 0.9853\n",
      "Epoch 5/10\n",
      "981/981 [==============================] - 52s 53ms/step - loss: 0.2550 - accuracy: 0.9352 - val_loss: 0.0768 - val_accuracy: 0.9795\n",
      "Epoch 6/10\n",
      "981/981 [==============================] - 60s 62ms/step - loss: 0.2403 - accuracy: 0.9398 - val_loss: 0.0702 - val_accuracy: 0.9828\n",
      "Epoch 7/10\n",
      "981/981 [==============================] - 55s 56ms/step - loss: 0.2299 - accuracy: 0.9430 - val_loss: 0.0893 - val_accuracy: 0.9768\n",
      "Epoch 8/10\n",
      "981/981 [==============================] - 52s 53ms/step - loss: 0.2218 - accuracy: 0.9441 - val_loss: 0.0552 - val_accuracy: 0.9884\n",
      "Epoch 9/10\n",
      "981/981 [==============================] - 58s 59ms/step - loss: 0.1798 - accuracy: 0.9548 - val_loss: 0.0556 - val_accuracy: 0.9874\n",
      "Epoch 10/10\n",
      "981/981 [==============================] - 63s 64ms/step - loss: 0.2099 - accuracy: 0.9515 - val_loss: 0.0375 - val_accuracy: 0.9904\n"
     ]
    }
   ],
   "source": [
    "cnn_history = cnn_model.fit(X_train, y_train, batch_size=batch_size, epochs=epochs, validation_data=(X_test, y_test))"
   ]
  },
  {
   "cell_type": "code",
   "execution_count": 12,
   "metadata": {
    "execution": {
     "iopub.status.busy": "2022-04-22T08:19:29.303651Z",
     "iopub.status.idle": "2022-04-22T08:19:29.304332Z",
     "shell.execute_reply": "2022-04-22T08:19:29.304106Z",
     "shell.execute_reply.started": "2022-04-22T08:19:29.304076Z"
    }
   },
   "outputs": [
    {
     "data": {
      "text/plain": [
       "{'loss': [1.5172663927078247,\n",
       "  0.4031127095222473,\n",
       "  0.28953370451927185,\n",
       "  0.2362450808286667,\n",
       "  0.23423069715499878,\n",
       "  0.22041629254817963,\n",
       "  0.23476025462150574,\n",
       "  0.2176714837551117,\n",
       "  0.1991080790758133,\n",
       "  0.20416465401649475],\n",
       " 'accuracy': [0.6194407939910889,\n",
       "  0.8950489163398743,\n",
       "  0.9246660470962524,\n",
       "  0.9400962591171265,\n",
       "  0.9415627717971802,\n",
       "  0.9444639086723328,\n",
       "  0.9432205557823181,\n",
       "  0.9465361833572388,\n",
       "  0.9516689777374268,\n",
       "  0.9527209997177124],\n",
       " 'val_loss': [0.22844165563583374,\n",
       "  0.09659615904092789,\n",
       "  0.10337609052658081,\n",
       "  0.06471280008554459,\n",
       "  0.07677768170833588,\n",
       "  0.07021987438201904,\n",
       "  0.08931980282068253,\n",
       "  0.055218107998371124,\n",
       "  0.05555613711476326,\n",
       "  0.037519421428442],\n",
       " 'val_accuracy': [0.9380260109901428,\n",
       "  0.9770466685295105,\n",
       "  0.9739862084388733,\n",
       "  0.9853353500366211,\n",
       "  0.9794695377349854,\n",
       "  0.9827849864959717,\n",
       "  0.9767916202545166,\n",
       "  0.9883958101272583,\n",
       "  0.9873756766319275,\n",
       "  0.9904361367225647]}"
      ]
     },
     "execution_count": 12,
     "metadata": {},
     "output_type": "execute_result"
    }
   ],
   "source": [
    "cnn_history.history"
   ]
  },
  {
   "cell_type": "markdown",
   "metadata": {},
   "source": [
    "### Display the Accuracy and Loss Plot"
   ]
  },
  {
   "cell_type": "code",
   "execution_count": 22,
   "metadata": {},
   "outputs": [
    {
     "name": "stdout",
     "output_type": "stream",
     "text": [
      "CNN training loss:  0.199\n",
      "CNN Val loss:  0.038\n",
      "CNN accuracy: 95.27 %\n",
      "CNN Val accuracy: 99.044 %\n"
     ]
    }
   ],
   "source": [
    "print(\"CNN training loss: \", round(min(cnn_history.history['loss']),3))\n",
    "print(\"CNN Val loss: \", round(min(cnn_history.history['val_loss']),3))\n",
    "print(\"CNN accuracy:\", round(max(cnn_history.history['accuracy']),4)*100,\"%\")\n",
    "print(\"CNN Val accuracy:\", round(max(cnn_history.history['val_accuracy']),5)*100,\"%\")"
   ]
  },
  {
   "cell_type": "code",
   "execution_count": 14,
   "metadata": {
    "execution": {
     "iopub.execute_input": "2022-04-22T08:19:29.311704Z",
     "iopub.status.busy": "2022-04-22T08:19:29.311329Z",
     "iopub.status.idle": "2022-04-22T08:19:29.329961Z",
     "shell.execute_reply": "2022-04-22T08:19:29.329000Z",
     "shell.execute_reply.started": "2022-04-22T08:19:29.311676Z"
    }
   },
   "outputs": [
    {
     "data": {
      "image/png": "[encoded data removed]",
      "text/plain": [
       "<Figure size 432x288 with 1 Axes>"
      ]
     },
     "metadata": {
      "needs_background": "light"
     },
     "output_type": "display_data"
    }
   ],
   "source": [
    "plt.plot(cnn_history.history['accuracy'], label='training accuracy')\n",
    "plt.plot(cnn_history.history['val_accuracy'], label='val accuracy')\n",
    "plt.title('Accuracy')\n",
    "plt.xlabel('epochs')\n",
    "plt.ylabel('accuracy')\n",
    "plt.legend()\n",
    "plt.show()"
   ]
  },
  {
   "cell_type": "code",
   "execution_count": 15,
   "metadata": {
    "execution": {
     "iopub.status.busy": "2022-04-22T08:19:29.330879Z",
     "iopub.status.idle": "2022-04-22T08:19:29.331711Z",
     "shell.execute_reply": "2022-04-22T08:19:29.331486Z",
     "shell.execute_reply.started": "2022-04-22T08:19:29.331462Z"
    },
    "scrolled": true
   },
   "outputs": [
    {
     "data": {
      "image/png": "[encoded data removed]",
      "text/plain": [
       "<Figure size 432x288 with 1 Axes>"
      ]
     },
     "metadata": {
      "needs_background": "light"
     },
     "output_type": "display_data"
    }
   ],
   "source": [
    "plt.plot(cnn_history.history['loss'], label='training loss')\n",
    "plt.plot(cnn_history.history['val_loss'], label='val loss')\n",
    "plt.title('Loss')\n",
    "plt.xlabel('epochs')\n",
    "plt.ylabel('loss')\n",
    "plt.legend()\n",
    "plt.show()"
   ]
  },
  {
   "cell_type": "markdown",
   "metadata": {},
   "source": [
    "## Test model with test dataset"
   ]
  },
  {
   "cell_type": "code",
   "execution_count": 16,
   "metadata": {
    "execution": {
     "iopub.execute_input": "2022-04-22T08:19:29.334958Z",
     "iopub.status.busy": "2022-04-22T08:19:29.334269Z",
     "iopub.status.idle": "2022-04-22T08:19:29.372845Z",
     "shell.execute_reply": "2022-04-22T08:19:29.372220Z",
     "shell.execute_reply.started": "2022-04-22T08:19:29.334922Z"
    }
   },
   "outputs": [],
   "source": [
    "from sklearn.metrics import accuracy_score\n",
    "\n",
    "y_test = pd.read_csv('Test.csv')\n",
    "labels = y_test[\"ClassId\"].values\n",
    "imgs = y_test[\"Path\"].values\n",
    "data=[]"
   ]
  },
  {
   "cell_type": "code",
   "execution_count": 17,
   "metadata": {
    "execution": {
     "iopub.execute_input": "2022-04-22T08:19:29.374536Z",
     "iopub.status.busy": "2022-04-22T08:19:29.374281Z",
     "iopub.status.idle": "2022-04-22T08:19:29.394593Z",
     "shell.execute_reply": "2022-04-22T08:19:29.392963Z",
     "shell.execute_reply.started": "2022-04-22T08:19:29.374477Z"
    }
   },
   "outputs": [
    {
     "data": {
      "application/vnd.jupyter.widget-view+json": {
       "model_id": "3ae057e4637647488adcc50c6ec610d6",
       "version_major": 2,
       "version_minor": 0
      },
      "text/plain": [
       "  0%|          | 0/12630 [00:00<?, ?it/s]"
      ]
     },
     "metadata": {},
     "output_type": "display_data"
    }
   ],
   "source": [
    "for img in tqdm(imgs):\n",
    "    image = Image.open(img)\n",
    "    image = image.resize((30,30))\n",
    "    data.append(np.array(image))\n",
    "X_test=np.array(data)"
   ]
  },
  {
   "cell_type": "code",
   "execution_count": 18,
   "metadata": {},
   "outputs": [
    {
     "name": "stdout",
     "output_type": "stream",
     "text": [
      "Shape of train images is: (31367, 30, 30, 3)\n",
      "Shape of test images is: (12630, 30, 30, 3)\n",
      "Shape of labels is: (31367, 43)\n",
      "Shape of labels is: (12630, 8)\n"
     ]
    }
   ],
   "source": [
    "print(\"Shape of train images is:\", X_train.shape)\n",
    "print(\"Shape of test images is:\", X_test.shape)\n",
    "print(\"Shape of labels is:\", y_train.shape)\n",
    "print(\"Shape of labels is:\", y_test.shape)"
   ]
  },
  {
   "cell_type": "markdown",
   "metadata": {},
   "source": [
    "## Make Prediction"
   ]
  },
  {
   "cell_type": "code",
   "execution_count": 19,
   "metadata": {
    "execution": {
     "iopub.status.busy": "2022-04-22T08:19:29.395346Z",
     "iopub.status.idle": "2022-04-22T08:19:29.397115Z",
     "shell.execute_reply": "2022-04-22T08:19:29.396938Z",
     "shell.execute_reply.started": "2022-04-22T08:19:29.396915Z"
    }
   },
   "outputs": [],
   "source": [
    "cnn_pred = cnn_model.predict_classes(X_test)"
   ]
  },
  {
   "cell_type": "code",
   "execution_count": 23,
   "metadata": {},
   "outputs": [
    {
     "name": "stdout",
     "output_type": "stream",
     "text": [
      "Accuracy:  96.785 %\n"
     ]
    }
   ],
   "source": [
    "from sklearn.metrics import accuracy_score\n",
    "\n",
    "accuracy_score = accuracy_score(labels, cnn_pred)\n",
    "print(\"Accuracy: \", round(accuracy_score,5)*100, \"%\")"
   ]
  },
  {
   "cell_type": "markdown",
   "metadata": {},
   "source": [
    "## Save CNN Model"
   ]
  },
  {
   "cell_type": "code",
   "execution_count": 21,
   "metadata": {},
   "outputs": [],
   "source": [
    "cnn_model.save(\"traffic_sign_classification.h5\")"
   ]
  },
  {
   "cell_type": "code",
   "execution_count": null,
   "metadata": {},
   "outputs": [],
   "source": []
  }
 ],
 "metadata": {
  "kernelspec": {
   "display_name": "Python 3",
   "language": "python",
   "name": "python3"
  },
  "language_info": {
   "codemirror_mode": {
    "name": "ipython",
    "version": 3
   },
   "file_extension": ".py",
   "mimetype": "text/x-python",
   "name": "python",
   "nbconvert_exporter": "python",
   "pygments_lexer": "ipython3",
   "version": "3.9.1"
  }
 },
 "nbformat": 4,
 "nbformat_minor": 4
}
